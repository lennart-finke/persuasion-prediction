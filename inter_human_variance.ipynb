{
 "cells": [
  {
   "cell_type": "code",
   "execution_count": 2,
   "metadata": {},
   "outputs": [
    {
     "data": {
      "text/plain": [
       "Index(['worker_id', 'argument', 'source', 'rating_initial', 'rating_final',\n",
       "       'persuasiveness_metric'],\n",
       "      dtype='object')"
      ]
     },
     "execution_count": 2,
     "metadata": {},
     "output_type": "execute_result"
    }
   ],
   "source": [
    "import statsmodels.api as sm\n",
    "import scipy.linalg\n",
    "import numpy as np\n",
    "import scipy\n",
    "from persuasion import get_persuasion_data\n",
    "\n",
    "\"\"\"\n",
    "Notebook to calculate inter-human variance of agreement changes (persuasiveness-metrics).\n",
    "\"\"\"\n",
    "\n",
    "df = get_persuasion_data()\n",
    "for key in [\"Unnamed: 0\", \"claim\", \"prompt_type\"]:\n",
    "    del df[key]"
   ]
  },
  {
   "cell_type": "code",
   "execution_count": 6,
   "metadata": {},
   "outputs": [
    {
     "name": "stdout",
     "output_type": "stream",
     "text": [
      "Accuracy: 0.6465408805031446\n",
      "Average Distance Score: 0.9279424977538185\n",
      "Mean Squared Distance: 0.9562768473643141\n",
      "                            OLS Regression Results                            \n",
      "==============================================================================\n",
      "Dep. Variable:                      y   R-squared:                       0.046\n",
      "Model:                            OLS   Adj. R-squared:                  0.044\n",
      "Method:                 Least Squares   F-statistic:                     37.88\n",
      "Date:                Sun, 04 Aug 2024   Prob (F-statistic):           1.20e-09\n",
      "Time:                        11:03:56   Log-Likelihood:                -987.00\n",
      "No. Observations:                 795   AIC:                             1978.\n",
      "Df Residuals:                     793   BIC:                             1987.\n",
      "Df Model:                           1                                         \n",
      "Covariance Type:            nonrobust                                         \n",
      "==============================================================================\n",
      "                 coef    std err          t      P>|t|      [0.025      0.975]\n",
      "------------------------------------------------------------------------------\n",
      "const          0.3229      0.033      9.830      0.000       0.258       0.387\n",
      "x1             0.2114      0.034      6.154      0.000       0.144       0.279\n",
      "==============================================================================\n",
      "Omnibus:                      217.991   Durbin-Watson:                   2.065\n",
      "Prob(Omnibus):                  0.000   Jarque-Bera (JB):              544.444\n",
      "Skew:                           1.425   Prob(JB):                    5.96e-119\n",
      "Kurtosis:                       5.884   Cond. No.                         1.58\n",
      "==============================================================================\n",
      "\n",
      "Notes:\n",
      "[1] Standard Errors assume that the covariance matrix of the errors is correctly specified.\n",
      "LinregressResult(slope=0.2114176287275458, intercept=0.32290830933459463, rvalue=0.2135119171677636, pvalue=1.1950225133491715e-09, stderr=0.034351885507911774, intercept_stderr=0.03284991277452575)\n"
     ]
    }
   ],
   "source": [
    "grouped = df.groupby(['argument', 'rating_initial'])\n",
    "\n",
    "distances = []\n",
    "pairs = []\n",
    "for _, group in grouped:\n",
    "    if len(group) > 1:\n",
    "        group = group.sort_index()  # Ensure rows are in the original order\n",
    "        for i in range(len(group)-1):\n",
    "            pairs.append((group.iloc[i], group.iloc[i+1]))\n",
    "            distances.append(abs(group.iloc[i]['persuasiveness_metric'] - group.iloc[i+1]['persuasiveness_metric']))\n",
    "\n",
    "print(f\"Accuracy: {len([x for x in distances if x == 0]) / len(distances)}\")\n",
    "print(f\"Average Distance Score: {np.linalg.norm([1-x/7 for x in distances], 1) / len(distances)}\")\n",
    "print(f\"Mean Squared Distance: {np.linalg.norm(distances, 2) / (len(distances)**0.5)}\")\n",
    "\n",
    "x_values = []\n",
    "y_values = []\n",
    "\n",
    "for first_row, second_row in pairs:\n",
    "    x_values.append(first_row['persuasiveness_metric'])\n",
    "    y_values.append(second_row['persuasiveness_metric'])\n",
    "\n",
    "\n",
    "# Regression\n",
    "if x_values and y_values:\n",
    "    X = sm.add_constant(x_values) \n",
    "    y = y_values\n",
    "    model = sm.OLS(y, X).fit()\n",
    "    print(model.summary())\n",
    "    res = scipy.stats.linregress(x_values, y_values)\n",
    "    print(res)\n",
    "else:\n",
    "    print(\"No pairs found for regression analysis.\")\n"
   ]
  }
 ],
 "metadata": {
  "kernelspec": {
   "display_name": "Python 3",
   "language": "python",
   "name": "python3"
  },
  "language_info": {
   "codemirror_mode": {
    "name": "ipython",
    "version": 3
   },
   "file_extension": ".py",
   "mimetype": "text/x-python",
   "name": "python",
   "nbconvert_exporter": "python",
   "pygments_lexer": "ipython3",
   "version": "3.11.4"
  }
 },
 "nbformat": 4,
 "nbformat_minor": 2
}
